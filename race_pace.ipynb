{
 "cells": [
  {
   "cell_type": "code",
   "execution_count": 20,
   "metadata": {},
   "outputs": [],
   "source": [
    "import fastf1 as ff1\n",
    "from fastf1 import plotting\n",
    "\n",
    "import pandas as pd\n",
    "\n",
    "from matplotlib import pyplot as plt\n",
    "from matplotlib.pyplot import figure\n",
    "from matplotlib import cm\n",
    "\n",
    "import numpy as np"
   ]
  },
  {
   "cell_type": "code",
   "execution_count": 21,
   "metadata": {},
   "outputs": [],
   "source": [
    "# Enable the cache\n",
    "ff1.Cache.enable_cache('cache/') \n",
    "\n",
    "# Get rid of an error\n",
    "pd.options.mode.chained_assignment = None"
   ]
  },
  {
   "cell_type": "code",
   "execution_count": 22,
   "metadata": {},
   "outputs": [
    {
     "name": "stderr",
     "output_type": "stream",
     "text": [
      "core           INFO \tLoading data for French Grand Prix - Race [v2.2.9]\n",
      "api            INFO \tUsing cached data for driver_info\n",
      "api            INFO \tUsing cached data for timing_data\n",
      "api            INFO \tUsing cached data for timing_app_data\n",
      "core           INFO \tProcessing timing data...\n",
      "api            INFO \tUsing cached data for session_status_data\n",
      "api            INFO \tUsing cached data for track_status_data\n",
      "api            INFO \tUsing cached data for car_data\n",
      "api            INFO \tUsing cached data for position_data\n",
      "api            INFO \tUsing cached data for weather_data\n",
      "api            INFO \tUsing cached data for race_control_messages\n",
      "core           INFO \tFinished loading data for 20 drivers: ['33', '44', '11', '77', '4', '3', '10', '14', '5', '18', '55', '63', '22', '31', '99', '16', '7', '6', '47', '9']\n"
     ]
    }
   ],
   "source": [
    "# Load the session data\n",
    "race = ff1.get_session(2021, 'France', 'R')\n",
    "\n",
    "# Get the laps\n",
    "race.load()\n",
    "laps = race.laps"
   ]
  },
  {
   "cell_type": "code",
   "execution_count": 23,
   "metadata": {},
   "outputs": [],
   "source": [
    "# Convert laptimes to seconds\n",
    "laps['LapTimeSeconds'] = laps['LapTime'].dt.total_seconds()\n",
    "\n",
    "# To get accurate laps only, we exclude in- and outlaps\n",
    "laps = laps.loc[(laps['PitOutTime'].isnull() & laps['PitInTime'].isnull())]"
   ]
  },
  {
   "cell_type": "code",
   "execution_count": 24,
   "metadata": {},
   "outputs": [],
   "source": [
    "# Also, we remove outliers since those don't represent the racepace,\n",
    "# using the Inter-Quartile Range (IQR) proximity rule\n",
    "q75, q25 = laps['LapTimeSeconds'].quantile(0.75), laps['LapTimeSeconds'].quantile(0.25)\n",
    "\n",
    "intr_qr = q75 - q25\n",
    "\n",
    "laptime_max = q75 + (1.5 * intr_qr) # IQR proximity rule: Max = q75 + 1,5 * IQR\n",
    "laptime_min = q25 - (1.5 * intr_qr) # IQR proximity rule: Min = q25 + 1,5 * IQR\n",
    "\n",
    "laps.loc[laps['LapTimeSeconds'] < laptime_min, 'LapTimeSeconds'] = np.nan\n",
    "laps.loc[laps['LapTimeSeconds'] > laptime_max, 'LapTimeSeconds'] = np.nan"
   ]
  },
  {
   "cell_type": "code",
   "execution_count": 25,
   "metadata": {},
   "outputs": [],
   "source": [
    "drivers_to_visualize = ['VER', 'PER', 'HAM', 'BOT']"
   ]
  },
  {
   "cell_type": "code",
   "execution_count": 26,
   "metadata": {},
   "outputs": [
    {
     "data": {
      "image/png": "[encoded data removed]",
      "text/plain": [
       "<Figure size 432x288 with 2 Axes>"
      ]
     },
     "metadata": {
      "needs_background": "light"
     },
     "output_type": "display_data"
    }
   ],
   "source": [
    "# To make sure we won't get any equally styled lines when comparing teammates\n",
    "visualized_teams = []\n",
    "\n",
    "# Make plot a bit bigger\n",
    "plt.rcParams['figure.figsize'] = [10, 10]\n",
    "\n",
    "# Create 2 subplots (1 for the boxplot, 1 for the lap-by-lap comparison)\n",
    "fig, ax = plt.subplots(2)\n",
    "\n",
    "\n",
    "##############################\n",
    "#\n",
    "# Boxplot for average racepace\n",
    "#\n",
    "##############################\n",
    "laptimes = [laps.pick_driver(x)['LapTimeSeconds'].dropna() for x in drivers_to_visualize] \n",
    "\n",
    "ax[0].boxplot(laptimes, labels=drivers_to_visualize)\n",
    "\n",
    "ax[0].set_title('Average racepace comparison')\n",
    "ax[0].set(ylabel = 'Laptime (s)')\n",
    "\n",
    "\n",
    "\n",
    "##############################\n",
    "#\n",
    "# Lap-by-lap racepace comparison\n",
    "#\n",
    "##############################\n",
    "for driver in drivers_to_visualize:\n",
    "    driver_laps = laps.pick_driver(driver)[['LapNumber', 'LapTimeSeconds', 'Team']]\n",
    "    \n",
    "    # Select all the laps from that driver\n",
    "    driver_laps = driver_laps.dropna()\n",
    "    \n",
    "    # Extract the team for coloring purploses\n",
    "    team = pd.unique(driver_laps['Team'])[0]\n",
    "    \n",
    "    # X-coordinate is the lap number\n",
    "    x = driver_laps['LapNumber']\n",
    "    \n",
    "    # Y-coordinate a smoothed line between all the laptimes\n",
    "    poly = np.polyfit(driver_laps['LapNumber'], driver_laps['LapTimeSeconds'], 5)\n",
    "    y_poly = np.poly1d(poly)(driver_laps['LapNumber'])\n",
    "    \n",
    "    # Make sure that two teammates don't get the same line style\n",
    "    linestyle = '-' if team not in visualized_teams else ':'\n",
    "    \n",
    "    # Plot the data\n",
    "    ax[1].plot(x, y_poly, label=driver, color=ff1.plotting.team_color(team), linestyle=linestyle)\n",
    "    \n",
    "    # Include scatterplot (individual laptimes)\n",
    "    # y = driver_laps['LapTimeSeconds']\n",
    "    # scatter_marker = 'o' if team not in visualized_teams else '^' \n",
    "    # ax[1].scatter(x, y, label=driver, color=ff1.plotting.team_color(team), marker=scatter_marker)\n",
    "    \n",
    "    # Append labels\n",
    "    ax[1].set(ylabel = 'Laptime (s)')\n",
    "    ax[1].set(xlabel = 'Lap')\n",
    "    \n",
    "    # Set title\n",
    "    ax[1].set_title('Smoothed lap-by-lap racepace')\n",
    "\n",
    "    # Generate legend\n",
    "    ax[1].legend()\n",
    "    \n",
    "    # Add the team to the visualized teams variable so that the next time the linestyle will be different\n",
    "    visualized_teams.append(team)\n",
    "    \n",
    "    plt.savefig('racepace_comparison.png', dpi=300)"
   ]
  }
 ],
 "metadata": {
  "kernelspec": {
   "display_name": "Python 3.8.9 64-bit",
   "language": "python",
   "name": "python3"
  },
  "language_info": {
   "codemirror_mode": {
    "name": "ipython",
    "version": 3
   },
   "file_extension": ".py",
   "mimetype": "text/x-python",
   "name": "python",
   "nbconvert_exporter": "python",
   "pygments_lexer": "ipython3",
   "version": "3.8.9"
  },
  "orig_nbformat": 4,
  "vscode": {
   "interpreter": {
    "hash": "5edc29c2ed010d6458d71a83433b383a96a8cbd3efe8531bc90c4b8a5b8bcec9"
   }
  }
 },
 "nbformat": 4,
 "nbformat_minor": 2
}
