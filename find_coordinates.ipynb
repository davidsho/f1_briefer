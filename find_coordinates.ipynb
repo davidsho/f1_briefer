{
 "cells": [
  {
   "cell_type": "code",
   "execution_count": 40,
   "metadata": {},
   "outputs": [],
   "source": [
    "import fastf1 as ff1\n",
    "import pandas as pd"
   ]
  },
  {
   "cell_type": "code",
   "execution_count": 41,
   "metadata": {},
   "outputs": [],
   "source": [
    "# Enable the cache\n",
    "ff1.Cache.enable_cache('cache/') "
   ]
  },
  {
   "cell_type": "code",
   "execution_count": 42,
   "metadata": {},
   "outputs": [],
   "source": [
    "session = ff1.get_session(2022, 'France', 'R')\n",
    "weekend = session.event\n",
    "loc = weekend.Location"
   ]
  },
  {
   "cell_type": "code",
   "execution_count": 43,
   "metadata": {},
   "outputs": [],
   "source": [
    "def getCoords(location):\n",
    "    data = pd.read_csv('circuits.csv').query(f'location == \"{location}\"')\n",
    "    print(data)\n",
    "    return(data.iloc[0]['lat'], data.iloc[0]['lng'])"
   ]
  },
  {
   "cell_type": "code",
   "execution_count": 44,
   "metadata": {},
   "outputs": [
    {
     "name": "stdout",
     "output_type": "stream",
     "text": [
      "    circuitId circuitRef                 name      location country      lat  \\\n",
      "32         34     ricard  Circuit Paul Ricard  Le Castellet  France  43.2506   \n",
      "\n",
      "        lng  alt                                               url  \n",
      "32  5.79167  432  http://en.wikipedia.org/wiki/Paul_Ricard_Circuit  \n"
     ]
    },
    {
     "data": {
      "text/plain": [
       "(43.2506, 5.79167)"
      ]
     },
     "execution_count": 44,
     "metadata": {},
     "output_type": "execute_result"
    }
   ],
   "source": [
    "getCoords(loc)"
   ]
  }
 ],
 "metadata": {
  "kernelspec": {
   "display_name": "Python 3.8.9 64-bit",
   "language": "python",
   "name": "python3"
  },
  "language_info": {
   "codemirror_mode": {
    "name": "ipython",
    "version": 3
   },
   "file_extension": ".py",
   "mimetype": "text/x-python",
   "name": "python",
   "nbconvert_exporter": "python",
   "pygments_lexer": "ipython3",
   "version": "3.8.9"
  },
  "orig_nbformat": 4,
  "vscode": {
   "interpreter": {
    "hash": "5edc29c2ed010d6458d71a83433b383a96a8cbd3efe8531bc90c4b8a5b8bcec9"
   }
  }
 },
 "nbformat": 4,
 "nbformat_minor": 2
}
