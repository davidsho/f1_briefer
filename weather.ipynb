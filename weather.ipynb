{
 "cells": [
  {
   "cell_type": "code",
   "execution_count": 59,
   "metadata": {},
   "outputs": [],
   "source": [
    "import requests\n",
    "import os\n",
    "from datetime import datetime"
   ]
  },
  {
   "cell_type": "code",
   "execution_count": 60,
   "metadata": {},
   "outputs": [],
   "source": [
    "lat = 43.2506\n",
    "lon = 5.79167\n",
    "key = os.environ.get(\"Weather\")"
   ]
  },
  {
   "cell_type": "code",
   "execution_count": 61,
   "metadata": {},
   "outputs": [],
   "source": [
    "def KToC(kelvin):\n",
    "    return round(kelvin - 273.15)"
   ]
  },
  {
   "cell_type": "code",
   "execution_count": 62,
   "metadata": {},
   "outputs": [],
   "source": [
    "req = requests.get(f\"https://api.openweathermap.org/data/2.5/onecall?lat={lat}&lon={lon}&appid={key}\")"
   ]
  },
  {
   "cell_type": "code",
   "execution_count": 64,
   "metadata": {},
   "outputs": [],
   "source": [
    "daily_weather = req.json()[\"daily\"]"
   ]
  },
  {
   "cell_type": "code",
   "execution_count": 66,
   "metadata": {},
   "outputs": [],
   "source": [
    "friday_weather = \"\"\n",
    "saturday_weather = \"\"\n",
    "sunday_weather = \"\""
   ]
  },
  {
   "cell_type": "code",
   "execution_count": 67,
   "metadata": {},
   "outputs": [],
   "source": [
    "for day in daily_weather:\n",
    "    weekday = datetime.fromtimestamp(day[\"dt\"]).weekday()\n",
    "    if weekday == 4: friday_weather = day[\"weather\"][0][\"description\"].title() + \", \" + str(KToC(day[\"temp\"][\"day\"])) + \"°C\"\n",
    "    elif weekday == 5: saturday_weather = day[\"weather\"][0][\"description\"].title() + \", \" + str(KToC(day[\"temp\"][\"day\"])) + \"°C\"\n",
    "    elif weekday == 6: sunday_weather = day[\"weather\"][0][\"description\"].title() + \", \" + str(KToC(day[\"temp\"][\"day\"])) + \"°C\""
   ]
  },
  {
   "cell_type": "code",
   "execution_count": 68,
   "metadata": {},
   "outputs": [
    {
     "name": "stdout",
     "output_type": "stream",
     "text": [
      "Clear Sky, 32°C\n",
      "Scattered Clouds, 32°C\n",
      "Clear Sky, 32°C\n"
     ]
    }
   ],
   "source": [
    "print(friday_weather)\n",
    "print(saturday_weather)\n",
    "print(sunday_weather)"
   ]
  }
 ],
 "metadata": {
  "kernelspec": {
   "display_name": "Python 3.8.9 64-bit",
   "language": "python",
   "name": "python3"
  },
  "language_info": {
   "codemirror_mode": {
    "name": "ipython",
    "version": 3
   },
   "file_extension": ".py",
   "mimetype": "text/x-python",
   "name": "python",
   "nbconvert_exporter": "python",
   "pygments_lexer": "ipython3",
   "version": "3.8.9"
  },
  "orig_nbformat": 4,
  "vscode": {
   "interpreter": {
    "hash": "5edc29c2ed010d6458d71a83433b383a96a8cbd3efe8531bc90c4b8a5b8bcec9"
   }
  }
 },
 "nbformat": 4,
 "nbformat_minor": 2
}
