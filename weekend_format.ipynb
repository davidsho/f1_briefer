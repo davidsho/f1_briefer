{
 "cells": [
  {
   "cell_type": "code",
   "execution_count": 1,
   "metadata": {},
   "outputs": [],
   "source": [
    "import fastf1 as ff1"
   ]
  },
  {
   "cell_type": "code",
   "execution_count": 2,
   "metadata": {},
   "outputs": [],
   "source": [
    "ff1.Cache.enable_cache('cache/') "
   ]
  },
  {
   "cell_type": "code",
   "execution_count": 10,
   "metadata": {},
   "outputs": [
    {
     "name": "stdout",
     "output_type": "stream",
     "text": [
      "{}\n"
     ]
    }
   ],
   "source": [
    "session = ff1.get_session(2022, 'Imola', 'R')\n",
    "weekend = session.event"
   ]
  },
  {
   "cell_type": "code",
   "execution_count": 8,
   "metadata": {},
   "outputs": [
    {
     "name": "stdout",
     "output_type": "stream",
     "text": [
      "sprint\n",
      "    RoundNumber        Country           Location  \\\n",
      "0             0          Spain              Spain   \n",
      "1             0        Bahrain            Bahrain   \n",
      "2             1        Bahrain             Sakhir   \n",
      "3             2   Saudi Arabia             Jeddah   \n",
      "4             3      Australia          Melbourne   \n",
      "5             4          Italy              Imola   \n",
      "6             5  United States              Miami   \n",
      "7             6          Spain          Barcelona   \n",
      "8             7         Monaco             Monaco   \n",
      "9             8     Azerbaijan               Baku   \n",
      "10            9         Canada           Montréal   \n",
      "11           10  Great Britain        Silverstone   \n",
      "12           11        Austria          Spielberg   \n",
      "13           12         France       Le Castellet   \n",
      "14           13        Hungary           Budapest   \n",
      "15           14        Belgium  Spa-Francorchamps   \n",
      "16           15    Netherlands          Zandvoort   \n",
      "17           16          Italy              Monza   \n",
      "18           17      Singapore         Marina Bay   \n",
      "19           18          Japan             Suzuka   \n",
      "20           19  United States             Austin   \n",
      "21           20         Mexico        Mexico City   \n",
      "22           21         Brazil          São Paulo   \n",
      "23           22      Abu Dhabi         Yas Island   \n",
      "\n",
      "                                    OfficialEventName           EventDate  \\\n",
      "0             FORMULA 1 PRE-SEASON TRACK SESSION 2022 2022-02-25 18:00:00   \n",
      "1            FORMULA 1 ARAMCO PRE-SEASON TESTING 2022 2022-03-12 19:00:00   \n",
      "2          FORMULA 1 GULF AIR BAHRAIN GRAND PRIX 2022 2022-03-20 20:00:00   \n",
      "3         FORMULA 1 STC SAUDI ARABIAN GRAND PRIX 2022 2022-03-27 22:00:00   \n",
      "4       FORMULA 1 HEINEKEN AUSTRALIAN GRAND PRIX 2022 2022-04-10 17:00:00   \n",
      "5   FORMULA 1 ROLEX GRAN PREMIO DEL MADE IN ITALY ... 2022-04-24 17:00:00   \n",
      "6          FORMULA 1 CRYPTO.COM MIAMI GRAND PRIX 2022 2022-05-08 17:30:00   \n",
      "7        FORMULA 1 PIRELLI GRAN PREMIO DE ESPAÑA 2022 2022-05-22 17:00:00   \n",
      "8                 FORMULA 1 GRAND PRIX DE MONACO 2022 2022-05-29 17:00:00   \n",
      "9                FORMULA 1 AZERBAIJAN GRAND PRIX 2022 2022-06-12 17:00:00   \n",
      "10            FORMULA 1 AWS GRAND PRIX DU CANADA 2022 2022-06-19 16:00:00   \n",
      "11           FORMULA 1 LENOVO BRITISH GRAND PRIX 2022 2022-07-03 17:00:00   \n",
      "12  FORMULA 1 ROLEX GROSSER PREIS VON ÖSTERREICH 2022 2022-07-10 17:00:00   \n",
      "13         FORMULA 1 LENOVO GRAND PRIX DE FRANCE 2022 2022-07-24 17:00:00   \n",
      "14               FORMULA 1 ARAMCO MAGYAR NAGYDÍJ 2022 2022-07-31 17:00:00   \n",
      "15            FORMULA 1 ROLEX BELGIAN GRAND PRIX 2022 2022-08-28 17:00:00   \n",
      "16           FORMULA 1 HEINEKEN DUTCH GRAND PRIX 2022 2022-09-04 17:00:00   \n",
      "17        FORMULA 1 PIRELLI GRAN PREMIO D’ITALIA 2022 2022-09-11 17:00:00   \n",
      "18  FORMULA 1 SINGAPORE AIRLINES SINGAPORE GRAND P... 2022-10-02 22:00:00   \n",
      "19           FORMULA 1 HONDA JAPANESE GRAND PRIX 2022 2022-10-09 16:00:00   \n",
      "20     FORMULA 1 ARAMCO UNITED STATES GRAND PRIX 2022 2022-10-23 16:00:00   \n",
      "21  FORMULA 1 GRAN PREMIO DE LA CIUDAD DE MÉXICO 2022 2022-10-30 16:00:00   \n",
      "22  FORMULA 1 HEINEKEN GRANDE PRÊMIO DE SÃO PAULO ... 2022-11-13 17:00:00   \n",
      "23  FORMULA 1 ETIHAD AIRWAYS ABU DHABI GRAND PRIX ... 2022-11-20 19:00:00   \n",
      "\n",
      "                    EventName   EventFormat    Session1        Session1Date  \\\n",
      "0    Pre-Season Track Session       testing  Practice 1 2022-02-23 09:00:00   \n",
      "1             Pre-Season Test       testing  Practice 1 2022-03-10 10:00:00   \n",
      "2          Bahrain Grand Prix  conventional  Practice 1 2022-03-18 15:00:00   \n",
      "3    Saudi Arabian Grand Prix  conventional  Practice 1 2022-03-25 17:00:00   \n",
      "4       Australian Grand Prix  conventional  Practice 1 2022-04-08 13:00:00   \n",
      "5   Emilia Romagna Grand Prix        sprint  Practice 1 2022-04-22 13:30:00   \n",
      "6            Miami Grand Prix  conventional  Practice 1 2022-05-06 14:30:00   \n",
      "7          Spanish Grand Prix  conventional  Practice 1 2022-05-20 14:00:00   \n",
      "8           Monaco Grand Prix  conventional  Practice 1 2022-05-27 14:00:00   \n",
      "9       Azerbaijan Grand Prix  conventional  Practice 1 2022-06-10 15:00:00   \n",
      "10        Canadian Grand Prix  conventional  Practice 1 2022-06-17 14:00:00   \n",
      "11         British Grand Prix  conventional  Practice 1 2022-07-01 13:00:00   \n",
      "12        Austrian Grand Prix        sprint  Practice 1 2022-07-08 13:30:00   \n",
      "13          French Grand Prix  conventional  Practice 1 2022-07-22 14:00:00   \n",
      "14       Hungarian Grand Prix  conventional  Practice 1 2022-07-29 14:00:00   \n",
      "15         Belgian Grand Prix  conventional  Practice 1 2022-08-26 14:00:00   \n",
      "16           Dutch Grand Prix  conventional  Practice 1 2022-09-02 12:30:00   \n",
      "17         Italian Grand Prix  conventional  Practice 1 2022-09-09 14:00:00   \n",
      "18       Singapore Grand Prix  conventional  Practice 1 2022-09-30 18:00:00   \n",
      "19        Japanese Grand Prix  conventional  Practice 1 2022-10-07 12:00:00   \n",
      "20   United States Grand Prix  conventional  Practice 1 2022-10-21 14:00:00   \n",
      "21     Mexico City Grand Prix  conventional  Practice 1 2022-10-28 13:00:00   \n",
      "22       São Paulo Grand Prix        sprint  Practice 1 2022-11-11 12:30:00   \n",
      "23       Abu Dhabi Grand Prix  conventional  Practice 1 2022-11-18 14:00:00   \n",
      "\n",
      "      Session2        Session2Date    Session3        Session3Date  \\\n",
      "0   Practice 2 2022-02-24 09:00:00  Practice 3 2022-02-25 09:00:00   \n",
      "1   Practice 2 2022-03-11 10:00:00  Practice 3 2022-03-12 10:00:00   \n",
      "2   Practice 2 2022-03-18 18:00:00  Practice 3 2022-03-19 15:00:00   \n",
      "3   Practice 2 2022-03-25 20:00:00  Practice 3 2022-03-26 17:00:00   \n",
      "4   Practice 2 2022-04-08 16:00:00  Practice 3 2022-04-09 13:00:00   \n",
      "5   Qualifying 2022-04-22 17:00:00  Practice 2 2022-04-23 12:30:00   \n",
      "6   Practice 2 2022-05-06 17:30:00  Practice 3 2022-05-07 13:00:00   \n",
      "7   Practice 2 2022-05-20 17:00:00  Practice 3 2022-05-21 13:00:00   \n",
      "8   Practice 2 2022-05-27 17:00:00  Practice 3 2022-05-28 13:00:00   \n",
      "9   Practice 2 2022-06-10 18:00:00  Practice 3 2022-06-11 15:00:00   \n",
      "10  Practice 2 2022-06-17 17:00:00  Practice 3 2022-06-18 13:00:00   \n",
      "11  Practice 2 2022-07-01 16:00:00  Practice 3 2022-07-02 12:00:00   \n",
      "12  Qualifying 2022-07-08 17:00:00  Practice 2 2022-07-09 12:30:00   \n",
      "13  Practice 2 2022-07-22 17:00:00  Practice 3 2022-07-23 13:00:00   \n",
      "14  Practice 2 2022-07-29 17:00:00  Practice 3 2022-07-30 13:00:00   \n",
      "15  Practice 2 2022-08-26 17:00:00  Practice 3 2022-08-27 13:00:00   \n",
      "16  Practice 2 2022-09-02 16:00:00  Practice 3 2022-09-03 12:00:00   \n",
      "17  Practice 2 2022-09-09 17:00:00  Practice 3 2022-09-10 13:00:00   \n",
      "18  Practice 2 2022-09-30 21:00:00  Practice 3 2022-10-01 18:00:00   \n",
      "19  Practice 2 2022-10-07 15:00:00  Practice 3 2022-10-08 12:00:00   \n",
      "20  Practice 2 2022-10-21 17:00:00  Practice 3 2022-10-22 14:00:00   \n",
      "21  Practice 2 2022-10-28 16:00:00  Practice 3 2022-10-29 12:00:00   \n",
      "22  Qualifying 2022-11-11 16:00:00  Practice 2 2022-11-12 12:30:00   \n",
      "23  Practice 2 2022-11-18 17:00:00  Practice 3 2022-11-19 15:00:00   \n",
      "\n",
      "      Session4        Session4Date Session5        Session5Date  F1ApiSupport  \n",
      "0         None                 NaT     None                 NaT         False  \n",
      "1         None                 NaT     None                 NaT          True  \n",
      "2   Qualifying 2022-03-19 18:00:00     Race 2022-03-20 18:00:00          True  \n",
      "3   Qualifying 2022-03-26 20:00:00     Race 2022-03-27 20:00:00          True  \n",
      "4   Qualifying 2022-04-09 16:00:00     Race 2022-04-10 15:00:00          True  \n",
      "5       Sprint 2022-04-23 16:30:00     Race 2022-04-24 15:00:00          True  \n",
      "6   Qualifying 2022-05-07 16:00:00     Race 2022-05-08 15:30:00          True  \n",
      "7   Qualifying 2022-05-21 16:00:00     Race 2022-05-22 15:00:00          True  \n",
      "8   Qualifying 2022-05-28 16:00:00     Race 2022-05-29 15:00:00          True  \n",
      "9   Qualifying 2022-06-11 18:00:00     Race 2022-06-12 15:00:00          True  \n",
      "10  Qualifying 2022-06-18 16:00:00     Race 2022-06-19 14:00:00          True  \n",
      "11  Qualifying 2022-07-02 15:00:00     Race 2022-07-03 15:00:00          True  \n",
      "12      Sprint 2022-07-09 16:30:00     Race 2022-07-10 15:00:00          True  \n",
      "13  Qualifying 2022-07-23 16:00:00     Race 2022-07-24 15:00:00          True  \n",
      "14  Qualifying 2022-07-30 16:00:00     Race 2022-07-31 15:00:00          True  \n",
      "15  Qualifying 2022-08-27 16:00:00     Race 2022-08-28 15:00:00          True  \n",
      "16  Qualifying 2022-09-03 15:00:00     Race 2022-09-04 15:00:00          True  \n",
      "17  Qualifying 2022-09-10 16:00:00     Race 2022-09-11 15:00:00          True  \n",
      "18  Qualifying 2022-10-01 21:00:00     Race 2022-10-02 20:00:00          True  \n",
      "19  Qualifying 2022-10-08 15:00:00     Race 2022-10-09 14:00:00          True  \n",
      "20  Qualifying 2022-10-22 17:00:00     Race 2022-10-23 14:00:00          True  \n",
      "21  Qualifying 2022-10-29 15:00:00     Race 2022-10-30 14:00:00          True  \n",
      "22      Sprint 2022-11-12 16:30:00     Race 2022-11-13 15:00:00          True  \n",
      "23  Qualifying 2022-11-19 18:00:00     Race 2022-11-20 17:00:00          True  \n"
     ]
    }
   ],
   "source": [
    "print(weekend.EventFormat)\n",
    "print(ff1.get_event_schedule(2022))"
   ]
  }
 ],
 "metadata": {
  "kernelspec": {
   "display_name": "Python 3.8.9 64-bit",
   "language": "python",
   "name": "python3"
  },
  "language_info": {
   "codemirror_mode": {
    "name": "ipython",
    "version": 3
   },
   "file_extension": ".py",
   "mimetype": "text/x-python",
   "name": "python",
   "nbconvert_exporter": "python",
   "pygments_lexer": "ipython3",
   "version": "3.8.9"
  },
  "orig_nbformat": 4,
  "vscode": {
   "interpreter": {
    "hash": "5edc29c2ed010d6458d71a83433b383a96a8cbd3efe8531bc90c4b8a5b8bcec9"
   }
  }
 },
 "nbformat": 4,
 "nbformat_minor": 2
}
